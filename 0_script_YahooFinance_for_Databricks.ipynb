{
 "cells":[
  {
   "cell_type":"code",
   "source":[
    "pip install yfinance==0.2.54"
   ],
   "execution_count":1,
   "outputs":[
    {
     "name":"stdout",
     "text":[
      "Collecting yfinance==0.2.54\r\n",
      "  Downloading yfinance-0.2.54-py2.py3-none-any.whl.metadata (5.8 kB)\r\n",
      "Requirement already satisfied: pandas>=1.3.0 in \/opt\/python\/envs\/default_3_11\/lib\/python3.11\/site-packages (from yfinance==0.2.54) (2.2.3)\r\n",
      "Requirement already satisfied: numpy>=1.16.5 in \/opt\/python\/envs\/default_3_11\/lib\/python3.11\/site-packages (from yfinance==0.2.54) (1.26.4)\r\n",
      "Requirement already satisfied: requests>=2.31 in \/opt\/python\/envs\/default_3_11\/lib\/python3.11\/site-packages (from yfinance==0.2.54) (2.32.3)\r\n",
      "Collecting multitasking>=0.0.7 (from yfinance==0.2.54)\r\n",
      "  Downloading multitasking-0.0.11-py3-none-any.whl.metadata (5.5 kB)\r\n",
      "Requirement already satisfied: platformdirs>=2.0.0 in \/opt\/python\/envs\/default_3_11\/lib\/python3.11\/site-packages (from yfinance==0.2.54) (4.3.8)\r\n",
      "Requirement already satisfied: pytz>=2022.5 in \/opt\/python\/envs\/default_3_11\/lib\/python3.11\/site-packages (from yfinance==0.2.54) (2025.2)\r\n",
      "Collecting frozendict>=2.3.4 (from yfinance==0.2.54)\r\n",
      "  Downloading frozendict-2.4.6-py311-none-any.whl.metadata (23 kB)\r\n",
      "Collecting peewee>=3.16.2 (from yfinance==0.2.54)\r\n",
      "  Downloading peewee-3.18.1.tar.gz (3.0 MB)\r\n",
      "\u001b[?25l     \u001b[90m━━━━━━━━━━━━━━━━━━━━━━━━━━━━━━━━━━━━━━━━\u001b[0m \u001b[32m0.0\/3.0 MB\u001b[0m \u001b[31m?\u001b[0m eta \u001b[36m-:--:--\u001b[0m\r\u001b[2K     \u001b[90m━━━━━━━━━━━━━━━━━━━━━━━━━━━━━━━━━━━━━━━━\u001b[0m \u001b[32m3.0\/3.0 MB\u001b[0m \u001b[31m136.5 MB\/s\u001b[0m eta \u001b[36m0:00:00\u001b[0m\r\n",
      "\u001b[?25h  Installing build dependencies ... \u001b[?25l-\b \b\\\b \b|\b \b\/\b \bdone\r\n",
      "\u001b[?25h  Getting requirements to build wheel ... \u001b[?25l-\b \bdone\r\n",
      "\u001b[?25h  Preparing metadata (pyproject.toml) ... \u001b[?25l-\b \bdone\r\n",
      "\u001b[?25hRequirement already satisfied: beautifulsoup4>=4.11.1 in \/opt\/python\/envs\/default_3_11\/lib\/python3.11\/site-packages (from yfinance==0.2.54) (4.13.4)\r\n",
      "Requirement already satisfied: soupsieve>1.2 in \/opt\/python\/envs\/default_3_11\/lib\/python3.11\/site-packages (from beautifulsoup4>=4.11.1->yfinance==0.2.54) (2.7)\r\n",
      "Requirement already satisfied: typing-extensions>=4.0.0 in \/opt\/python\/envs\/default_3_11\/lib\/python3.11\/site-packages (from beautifulsoup4>=4.11.1->yfinance==0.2.54) (4.13.2)\r\n",
      "Requirement already satisfied: python-dateutil>=2.8.2 in \/opt\/python\/envs\/default_3_11\/lib\/python3.11\/site-packages (from pandas>=1.3.0->yfinance==0.2.54) (2.9.0.post0)\r\n",
      "Requirement already satisfied: tzdata>=2022.7 in \/opt\/python\/envs\/default_3_11\/lib\/python3.11\/site-packages (from pandas>=1.3.0->yfinance==0.2.54) (2025.2)\r\n",
      "Requirement already satisfied: charset-normalizer<4,>=2 in \/opt\/python\/envs\/default_3_11\/lib\/python3.11\/site-packages (from requests>=2.31->yfinance==0.2.54) (3.4.2)\r\n",
      "Requirement already satisfied: idna<4,>=2.5 in \/opt\/python\/envs\/default_3_11\/lib\/python3.11\/site-packages (from requests>=2.31->yfinance==0.2.54) (3.10)\r\n",
      "Requirement already satisfied: urllib3<3,>=1.21.1 in \/opt\/python\/envs\/default_3_11\/lib\/python3.11\/site-packages (from requests>=2.31->yfinance==0.2.54) (2.4.0)\r\n",
      "Requirement already satisfied: certifi>=2017.4.17 in \/opt\/python\/envs\/default_3_11\/lib\/python3.11\/site-packages (from requests>=2.31->yfinance==0.2.54) (2025.4.26)\r\n",
      "Requirement already satisfied: six>=1.5 in \/opt\/python\/envs\/default_3_11\/lib\/python3.11\/site-packages (from python-dateutil>=2.8.2->pandas>=1.3.0->yfinance==0.2.54) (1.17.0)\r\n",
      "Downloading yfinance-0.2.54-py2.py3-none-any.whl (108 kB)\r\n",
      "Downloading frozendict-2.4.6-py311-none-any.whl (16 kB)\r\n",
      "Downloading multitasking-0.0.11-py3-none-any.whl (8.5 kB)\r\n",
      "Building wheels for collected packages: peewee\r\n",
      "  Building wheel for peewee (pyproject.toml) ... \u001b[?25l-\b \b\\\b \bdone\r\n",
      "\u001b[?25h  Created wheel for peewee: filename=peewee-3.18.1-py3-none-any.whl size=139052 sha256=f011de83394e6b33a1f0ca64150304f8927689fbeb4f8f09c56505aa60ebc3b0\r\n",
      "  Stored in directory: \/home\/datalore\/.cache\/pip\/wheels\/25\/cb\/79\/a133a0d1d75f318a96614ed7fb97bdf2f35a7b6c4d4e426e3f\r\n",
      "Successfully built peewee\r\n",
      "Installing collected packages: peewee, multitasking, frozendict, yfinance\r\n",
      "Successfully installed frozendict-2.4.6 multitasking-0.0.11 peewee-3.18.1 yfinance-0.2.54\r\n",
      "Note: you may need to restart the kernel to use updated packages.\n"
     ],
     "output_type":"stream"
    }
   ],
   "metadata":{
    "datalore":{
     "node_id":"gs6eyToK0yLGolnwcENWSw",
     "type":"CODE",
     "hide_input_from_viewers":true,
     "hide_output_from_viewers":true
    }
   }
  },
  {
   "cell_type":"code",
   "source":[
    "pip install yfinance --upgrade --no-cache-dir"
   ],
   "execution_count":5,
   "outputs":[
    {
     "name":"stdout",
     "text":[
      "Requirement already satisfied: yfinance in \/opt\/python\/envs\/default_3_11\/lib\/python3.11\/site-packages (0.2.54)\r\n",
      "Collecting yfinance\r\n",
      "  Downloading yfinance-0.2.61-py2.py3-none-any.whl.metadata (5.8 kB)\r\n",
      "Requirement already satisfied: pandas>=1.3.0 in \/opt\/python\/envs\/default_3_11\/lib\/python3.11\/site-packages (from yfinance) (2.2.3)\r\n",
      "Requirement already satisfied: numpy>=1.16.5 in \/opt\/python\/envs\/default_3_11\/lib\/python3.11\/site-packages (from yfinance) (1.26.4)\r\n",
      "Requirement already satisfied: requests>=2.31 in \/opt\/python\/envs\/default_3_11\/lib\/python3.11\/site-packages (from yfinance) (2.32.3)\r\n",
      "Requirement already satisfied: multitasking>=0.0.7 in \/opt\/python\/envs\/default_3_11\/lib\/python3.11\/site-packages (from yfinance) (0.0.11)\r\n",
      "Requirement already satisfied: platformdirs>=2.0.0 in \/opt\/python\/envs\/default_3_11\/lib\/python3.11\/site-packages (from yfinance) (4.3.8)\r\n",
      "Requirement already satisfied: pytz>=2022.5 in \/opt\/python\/envs\/default_3_11\/lib\/python3.11\/site-packages (from yfinance) (2025.2)\r\n",
      "Requirement already satisfied: frozendict>=2.3.4 in \/opt\/python\/envs\/default_3_11\/lib\/python3.11\/site-packages (from yfinance) (2.4.6)\r\n",
      "Requirement already satisfied: peewee>=3.16.2 in \/opt\/python\/envs\/default_3_11\/lib\/python3.11\/site-packages (from yfinance) (3.18.1)\r\n",
      "Requirement already satisfied: beautifulsoup4>=4.11.1 in \/opt\/python\/envs\/default_3_11\/lib\/python3.11\/site-packages (from yfinance) (4.13.4)\r\n",
      "Collecting curl_cffi>=0.7 (from yfinance)\r\n",
      "  Downloading curl_cffi-0.11.2-cp39-abi3-manylinux_2_17_x86_64.manylinux2014_x86_64.whl.metadata (14 kB)\r\n",
      "Requirement already satisfied: protobuf>=3.19.0 in \/opt\/python\/envs\/default_3_11\/lib\/python3.11\/site-packages (from yfinance) (4.25.5)\r\n",
      "Collecting websockets>=13.0 (from yfinance)\r\n",
      "  Downloading websockets-15.0.1-cp311-cp311-manylinux_2_5_x86_64.manylinux1_x86_64.manylinux_2_17_x86_64.manylinux2014_x86_64.whl.metadata (6.8 kB)\r\n",
      "Requirement already satisfied: soupsieve>1.2 in \/opt\/python\/envs\/default_3_11\/lib\/python3.11\/site-packages (from beautifulsoup4>=4.11.1->yfinance) (2.7)\r\n",
      "Requirement already satisfied: typing-extensions>=4.0.0 in \/opt\/python\/envs\/default_3_11\/lib\/python3.11\/site-packages (from beautifulsoup4>=4.11.1->yfinance) (4.13.2)\r\n",
      "Requirement already satisfied: cffi>=1.12.0 in \/opt\/python\/envs\/default_3_11\/lib\/python3.11\/site-packages (from curl_cffi>=0.7->yfinance) (1.17.1)\r\n",
      "Requirement already satisfied: certifi>=2024.2.2 in \/opt\/python\/envs\/default_3_11\/lib\/python3.11\/site-packages (from curl_cffi>=0.7->yfinance) (2025.4.26)\r\n",
      "Requirement already satisfied: python-dateutil>=2.8.2 in \/opt\/python\/envs\/default_3_11\/lib\/python3.11\/site-packages (from pandas>=1.3.0->yfinance) (2.9.0.post0)\r\n",
      "Requirement already satisfied: tzdata>=2022.7 in \/opt\/python\/envs\/default_3_11\/lib\/python3.11\/site-packages (from pandas>=1.3.0->yfinance) (2025.2)\r\n",
      "Requirement already satisfied: charset-normalizer<4,>=2 in \/opt\/python\/envs\/default_3_11\/lib\/python3.11\/site-packages (from requests>=2.31->yfinance) (3.4.2)\r\n",
      "Requirement already satisfied: idna<4,>=2.5 in \/opt\/python\/envs\/default_3_11\/lib\/python3.11\/site-packages (from requests>=2.31->yfinance) (3.10)\r\n",
      "Requirement already satisfied: urllib3<3,>=1.21.1 in \/opt\/python\/envs\/default_3_11\/lib\/python3.11\/site-packages (from requests>=2.31->yfinance) (2.4.0)\r\n",
      "Requirement already satisfied: pycparser in \/opt\/python\/envs\/default_3_11\/lib\/python3.11\/site-packages (from cffi>=1.12.0->curl_cffi>=0.7->yfinance) (2.22)\r\n",
      "Requirement already satisfied: six>=1.5 in \/opt\/python\/envs\/default_3_11\/lib\/python3.11\/site-packages (from python-dateutil>=2.8.2->pandas>=1.3.0->yfinance) (1.17.0)\r\n",
      "Downloading yfinance-0.2.61-py2.py3-none-any.whl (117 kB)\r\n",
      "Downloading curl_cffi-0.11.2-cp39-abi3-manylinux_2_17_x86_64.manylinux2014_x86_64.whl (8.5 MB)\r\n",
      "\u001b[?25l   \u001b[90m━━━━━━━━━━━━━━━━━━━━━━━━━━━━━━━━━━━━━━━━\u001b[0m \u001b[32m0.0\/8.5 MB\u001b[0m \u001b[31m?\u001b[0m eta \u001b[36m-:--:--\u001b[0m\r\u001b[2K   \u001b[90m━━━━━━━━━━━━━━━━━━━━━━━━━━━━━━━━━━━━━━━━\u001b[0m \u001b[32m8.5\/8.5 MB\u001b[0m \u001b[31m215.8 MB\/s\u001b[0m eta \u001b[36m0:00:00\u001b[0m\r\n",
      "\u001b[?25hDownloading websockets-15.0.1-cp311-cp311-manylinux_2_5_x86_64.manylinux1_x86_64.manylinux_2_17_x86_64.manylinux2014_x86_64.whl (182 kB)\r\n",
      "Installing collected packages: websockets, curl_cffi, yfinance\r\n",
      "  Attempting uninstall: yfinance\r\n",
      "    Found existing installation: yfinance 0.2.54\r\n",
      "    Uninstalling yfinance-0.2.54:\r\n",
      "      Successfully uninstalled yfinance-0.2.54\r\n",
      "Successfully installed curl_cffi-0.11.2 websockets-15.0.1 yfinance-0.2.61\r\n",
      "Note: you may need to restart the kernel to use updated packages.\n"
     ],
     "output_type":"stream"
    }
   ],
   "metadata":{
    "datalore":{
     "node_id":"DfT0T6p6bKiboJktLZvNHU",
     "type":"CODE",
     "hide_input_from_viewers":true,
     "hide_output_from_viewers":true
    }
   }
  },
  {
   "cell_type":"code",
   "source":[
    "import pandas as pd\n",
    "import yfinance as yf"
   ],
   "execution_count":1,
   "outputs":[],
   "metadata":{
    "datalore":{
     "node_id":"toszh2l6qmBPjxIXHeFLEg",
     "type":"CODE",
     "hide_input_from_viewers":true,
     "hide_output_from_viewers":true
    }
   }
  },
  {
   "cell_type":"code",
   "source":[
    "import time\n",
    "\n",
    "# Список тикерів\n",
    "tickers = [\"MSFT\", \"NVDA\", \"AAPL\", \"ORCL\", \"IBM\"]\n",
    "start_date = \"2025-01-01\"\n",
    "end_date = \"2025-06-01\"\n",
    "\n",
    "# Завантаження фінансових даних з паузою між запитами\n",
    "data = []\n",
    "for ticker in tickers:\n",
    "    time.sleep(2)  # Затримка 2 секунди, щоб уникнути блокування Yahoo Finance\n",
    "    stock = yf.Ticker(ticker)\n",
    "    df = stock.history(start=start_date, end=end_date).reset_index()\n",
    "    df[\"Ticker\"] = ticker  # Додаємо колонку з тикером\n",
    "    data.append(df)\n",
    "\n",
    "# Об'єднання всіх даних у один DataFrame\n",
    "df_pandas = pd.concat(data, ignore_index=True)"
   ],
   "execution_count":6,
   "outputs":[],
   "metadata":{
    "datalore":{
     "node_id":"VlyWrppUnky3kOdJHdcB7O",
     "type":"CODE",
     "hide_input_from_viewers":true,
     "hide_output_from_viewers":true
    }
   }
  },
  {
   "cell_type":"code",
   "source":[
    "df_pandas.head(10)"
   ],
   "execution_count":4,
   "outputs":[
    {
     "data":{
      "text\/html":[
       "<div>\n",
       "<style scoped>\n",
       "    .dataframe tbody tr th:only-of-type {\n",
       "        vertical-align: middle;\n",
       "    }\n",
       "\n",
       "    .dataframe tbody tr th {\n",
       "        vertical-align: top;\n",
       "    }\n",
       "\n",
       "    .dataframe thead th {\n",
       "        text-align: right;\n",
       "    }\n",
       "<\/style>\n",
       "<table border=\"1\" class=\"dataframe\">\n",
       "  <thead>\n",
       "    <tr style=\"text-align: right;\">\n",
       "      <th><\/th>\n",
       "      <th>Date<\/th>\n",
       "      <th>Open<\/th>\n",
       "      <th>High<\/th>\n",
       "      <th>Low<\/th>\n",
       "      <th>Close<\/th>\n",
       "      <th>Volume<\/th>\n",
       "      <th>Dividends<\/th>\n",
       "      <th>Stock Splits<\/th>\n",
       "      <th>Ticker<\/th>\n",
       "    <\/tr>\n",
       "  <\/thead>\n",
       "  <tbody>\n",
       "    <tr>\n",
       "      <th>0<\/th>\n",
       "      <td>2025-05-01 00:00:00-04:00<\/td>\n",
       "      <td>430.319981<\/td>\n",
       "      <td>436.189211<\/td>\n",
       "      <td>424.121369<\/td>\n",
       "      <td>424.620453<\/td>\n",
       "      <td>58938100<\/td>\n",
       "      <td>0.0<\/td>\n",
       "      <td>0.0<\/td>\n",
       "      <td>MSFT<\/td>\n",
       "    <\/tr>\n",
       "    <tr>\n",
       "      <th>1<\/th>\n",
       "      <td>2025-05-02 00:00:00-04:00<\/td>\n",
       "      <td>430.948839<\/td>\n",
       "      <td>438.634741<\/td>\n",
       "      <td>429.202046<\/td>\n",
       "      <td>434.482361<\/td>\n",
       "      <td>30757400<\/td>\n",
       "      <td>0.0<\/td>\n",
       "      <td>0.0<\/td>\n",
       "      <td>MSFT<\/td>\n",
       "    <\/tr>\n",
       "    <tr>\n",
       "      <th>2<\/th>\n",
       "      <td>2025-05-05 00:00:00-04:00<\/td>\n",
       "      <td>432.076757<\/td>\n",
       "      <td>438.694612<\/td>\n",
       "      <td>431.318140<\/td>\n",
       "      <td>435.370728<\/td>\n",
       "      <td>20136100<\/td>\n",
       "      <td>0.0<\/td>\n",
       "      <td>0.0<\/td>\n",
       "      <td>MSFT<\/td>\n",
       "    <\/tr>\n",
       "    <tr>\n",
       "      <th>3<\/th>\n",
       "      <td>2025-05-06 00:00:00-04:00<\/td>\n",
       "      <td>431.408009<\/td>\n",
       "      <td>436.927874<\/td>\n",
       "      <td>430.379898<\/td>\n",
       "      <td>432.515961<\/td>\n",
       "      <td>15104200<\/td>\n",
       "      <td>0.0<\/td>\n",
       "      <td>0.0<\/td>\n",
       "      <td>MSFT<\/td>\n",
       "    <\/tr>\n",
       "    <tr>\n",
       "      <th>4<\/th>\n",
       "      <td>2025-05-07 00:00:00-04:00<\/td>\n",
       "      <td>433.045001<\/td>\n",
       "      <td>437.317156<\/td>\n",
       "      <td>430.319992<\/td>\n",
       "      <td>432.555908<\/td>\n",
       "      <td>23295300<\/td>\n",
       "      <td>0.0<\/td>\n",
       "      <td>0.0<\/td>\n",
       "      <td>MSFT<\/td>\n",
       "    <\/tr>\n",
       "    <tr>\n",
       "      <th>5<\/th>\n",
       "      <td>2025-05-08 00:00:00-04:00<\/td>\n",
       "      <td>437.127485<\/td>\n",
       "      <td>442.856987<\/td>\n",
       "      <td>434.861655<\/td>\n",
       "      <td>437.367065<\/td>\n",
       "      <td>23491300<\/td>\n",
       "      <td>0.0<\/td>\n",
       "      <td>0.0<\/td>\n",
       "      <td>MSFT<\/td>\n",
       "    <\/tr>\n",
       "    <tr>\n",
       "      <th>6<\/th>\n",
       "      <td>2025-05-09 00:00:00-04:00<\/td>\n",
       "      <td>439.193718<\/td>\n",
       "      <td>439.932352<\/td>\n",
       "      <td>435.081272<\/td>\n",
       "      <td>437.926056<\/td>\n",
       "      <td>15324200<\/td>\n",
       "      <td>0.0<\/td>\n",
       "      <td>0.0<\/td>\n",
       "      <td>MSFT<\/td>\n",
       "    <\/tr>\n",
       "    <tr>\n",
       "      <th>7<\/th>\n",
       "      <td>2025-05-12 00:00:00-04:00<\/td>\n",
       "      <td>445.122814<\/td>\n",
       "      <td>448.546521<\/td>\n",
       "      <td>438.974098<\/td>\n",
       "      <td>448.436737<\/td>\n",
       "      <td>22821900<\/td>\n",
       "      <td>0.0<\/td>\n",
       "      <td>0.0<\/td>\n",
       "      <td>MSFT<\/td>\n",
       "    <\/tr>\n",
       "    <tr>\n",
       "      <th>8<\/th>\n",
       "      <td>2025-05-13 00:00:00-04:00<\/td>\n",
       "      <td>446.959462<\/td>\n",
       "      <td>449.844181<\/td>\n",
       "      <td>444.543884<\/td>\n",
       "      <td>448.316986<\/td>\n",
       "      <td>23618800<\/td>\n",
       "      <td>0.0<\/td>\n",
       "      <td>0.0<\/td>\n",
       "      <td>MSFT<\/td>\n",
       "    <\/tr>\n",
       "    <tr>\n",
       "      <th>9<\/th>\n",
       "      <td>2025-05-14 00:00:00-04:00<\/td>\n",
       "      <td>447.318794<\/td>\n",
       "      <td>453.068218<\/td>\n",
       "      <td>447.318794<\/td>\n",
       "      <td>452.109985<\/td>\n",
       "      <td>19902800<\/td>\n",
       "      <td>0.0<\/td>\n",
       "      <td>0.0<\/td>\n",
       "      <td>MSFT<\/td>\n",
       "    <\/tr>\n",
       "  <\/tbody>\n",
       "<\/table>\n",
       "<\/div>"
      ]
     },
     "metadata":{},
     "output_type":"display_data"
    }
   ],
   "metadata":{
    "datalore":{
     "node_id":"UyLO10SxTd9gI88lRMCCvB",
     "type":"CODE",
     "hide_input_from_viewers":true,
     "hide_output_from_viewers":true
    }
   }
  },
  {
   "cell_type":"code",
   "source":[
    "df_pandas.hist"
   ],
   "execution_count":7,
   "outputs":[
    {
     "data":{
      "text\/plain":[
       "<bound method hist_frame of                          Date        Open        High         Low       Close  \\\n",
       "0   2025-01-02 00:00:00-05:00  423.900262  424.438202  413.261173  416.976868   \n",
       "1   2025-01-03 00:00:00-05:00  419.467282  422.405996  417.933202  421.728607   \n",
       "2   2025-01-06 00:00:00-05:00  426.360784  432.656586  423.850447  426.211365   \n",
       "3   2025-01-07 00:00:00-05:00  427.356962  429.000637  419.188356  420.752350   \n",
       "4   2025-01-08 00:00:00-05:00  421.838197  425.334764  419.925568  422.933990   \n",
       "..                        ...         ...         ...         ...         ...   \n",
       "505 2025-05-23 00:00:00-04:00  258.579987  259.869995  255.789993  258.630005   \n",
       "506 2025-05-27 00:00:00-04:00  261.000000  263.790009  259.630005  263.230011   \n",
       "507 2025-05-28 00:00:00-04:00  263.160004  265.000000  259.940002  260.239990   \n",
       "508 2025-05-29 00:00:00-04:00  260.750000  261.130005  256.769989  258.690002   \n",
       "509 2025-05-30 00:00:00-04:00  258.750000  260.119995  257.100006  259.059998   \n",
       "\n",
       "       Volume  Dividends  Stock Splits Ticker  \n",
       "0    16896500        0.0           0.0   MSFT  \n",
       "1    16662900        0.0           0.0   MSFT  \n",
       "2    20573600        0.0           0.0   MSFT  \n",
       "3    18139100        0.0           0.0   MSFT  \n",
       "4    15054600        0.0           0.0   MSFT  \n",
       "..        ...        ...           ...    ...  \n",
       "505   2722600        0.0           0.0    IBM  \n",
       "506   3284200        0.0           0.0    IBM  \n",
       "507   2318400        0.0           0.0    IBM  \n",
       "508   2295000        0.0           0.0    IBM  \n",
       "509   9668900        0.0           0.0    IBM  \n",
       "\n",
       "[510 rows x 9 columns]>"
      ]
     },
     "metadata":{},
     "output_type":"display_data"
    }
   ],
   "metadata":{
    "datalore":{
     "node_id":"4jQC4ByYjZGNDBclQPeCvp",
     "type":"CODE",
     "hide_input_from_viewers":true,
     "hide_output_from_viewers":true
    }
   }
  },
  {
   "cell_type":"code",
   "source":[
    "# Збереження файлу CSV у директорію проєкту Datalore\n",
    "df_pandas.to_csv(\"yahoofinance_data.csv\", index=False)"
   ],
   "execution_count":12,
   "outputs":[],
   "metadata":{
    "datalore":{
     "node_id":"UvYw7flDTu1txoVYuAGVwH",
     "type":"CODE",
     "hide_input_from_viewers":true,
     "hide_output_from_viewers":true
    }
   }
  }
 ],
 "metadata":{
  "kernelspec":{
   "display_name":"Python",
   "language":"python",
   "name":"python"
  },
  "datalore":{
   "computation_mode":"JUPYTER",
   "package_manager":"pip",
   "base_environment":"default_3_11",
   "packages":[],
   "report_row_ids":[],
   "report_tabs":[],
   "version":4
  }
 },
 "nbformat":4,
 "nbformat_minor":4
}