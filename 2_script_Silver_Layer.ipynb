{
 "cells": [
  {
   "cell_type": "markdown",
   "metadata": {
    "application/vnd.databricks.v1+cell": {
     "cellMetadata": {},
     "inputWidgets": {},
     "nuid": "3e6182fa-2cd5-4f5c-8075-eb76c4378465",
     "showTitle": false,
     "tableResultSettingsMap": {},
     "title": ""
    }
   },
   "source": [
    "### 2.\tОчистити та підготувати дані для подальшого аналізу (Silver Layer)."
   ]
  },
  {
   "cell_type": "code",
   "execution_count": 0,
   "metadata": {
    "application/vnd.databricks.v1+cell": {
     "cellMetadata": {
      "byteLimit": 2048000,
      "implicitDf": true,
      "rowLimit": 10000
     },
     "inputWidgets": {},
     "nuid": "541ff428-62bd-4c65-a3d1-c8cba9d39bc0",
     "showTitle": false,
     "tableResultSettingsMap": {},
     "title": ""
    }
   },
   "outputs": [
    {
     "output_type": "display_data",
     "data": {
      "text/html": [
       "<style scoped>\n",
       "  .table-result-container {\n",
       "    max-height: 300px;\n",
       "    overflow: auto;\n",
       "  }\n",
       "  table, th, td {\n",
       "    border: 1px solid black;\n",
       "    border-collapse: collapse;\n",
       "  }\n",
       "  th, td {\n",
       "    padding: 5px;\n",
       "  }\n",
       "  th {\n",
       "    text-align: left;\n",
       "  }\n",
       "</style><div class='table-result-container'><table class='table-result'><thead style='background-color: white'><tr></tr></thead><tbody></tbody></table></div>"
      ]
     },
     "metadata": {
      "application/vnd.databricks.v1+output": {
       "addedWidgets": {},
       "aggData": [],
       "aggError": "",
       "aggOverflow": false,
       "aggSchema": [],
       "aggSeriesLimitReached": false,
       "aggType": "",
       "arguments": {},
       "columnCustomDisplayInfos": {},
       "data": [],
       "datasetInfos": [],
       "dbfsResultPath": null,
       "isJsonSchema": true,
       "metadata": {},
       "overflow": false,
       "plotOptions": {
        "customPlotOptions": {},
        "displayType": "table",
        "pivotAggregation": null,
        "pivotColumns": null,
        "xColumns": null,
        "yColumns": null
       },
       "removedWidgets": [],
       "schema": [],
       "type": "table"
      }
     },
     "output_type": "display_data"
    }
   ],
   "source": [
    "%sql\n",
    "USE yahoo_data;"
   ]
  },
  {
   "cell_type": "code",
   "execution_count": 0,
   "metadata": {
    "application/vnd.databricks.v1+cell": {
     "cellMetadata": {
      "byteLimit": 2048000,
      "rowLimit": 10000
     },
     "inputWidgets": {},
     "nuid": "7add20dc-58e3-4d9e-8ca3-7c6b99450626",
     "showTitle": false,
     "tableResultSettingsMap": {},
     "title": ""
    }
   },
   "outputs": [],
   "source": [
    "df_bronze = spark.read.format(\"delta\").table(\"yahoo_data.finance_bronze\")"
   ]
  },
  {
   "cell_type": "code",
   "execution_count": 0,
   "metadata": {
    "application/vnd.databricks.v1+cell": {
     "cellMetadata": {
      "byteLimit": 2048000,
      "rowLimit": 10000
     },
     "collapsed": true,
     "inputWidgets": {},
     "nuid": "6a4a3a1f-cef1-4920-8de0-5deaa6f98ada",
     "showTitle": false,
     "tableResultSettingsMap": {},
     "title": ""
    }
   },
   "outputs": [
    {
     "output_type": "stream",
     "name": "stdout",
     "output_type": "stream",
     "text": [
      "root\n |-- Date: timestamp (nullable = true)\n |-- Open: double (nullable = true)\n |-- High: double (nullable = true)\n |-- Low: double (nullable = true)\n |-- Close: double (nullable = true)\n |-- Volume: integer (nullable = true)\n |-- Dividends: double (nullable = true)\n |-- Stock_Splits: double (nullable = true)\n |-- Ticker: string (nullable = true)\n\n+-------------------+------------------+------------------+------------------+------------------+--------+---------+------------+------+\n|               Date|              Open|              High|               Low|             Close|  Volume|Dividends|Stock_Splits|Ticker|\n+-------------------+------------------+------------------+------------------+------------------+--------+---------+------------+------+\n|2025-01-02 05:00:00|423.90026204092493|424.43820240788705| 413.2611726539346|416.97686767578125|16896500|      0.0|         0.0|  MSFT|\n|2025-01-03 05:00:00| 419.4672816518615|422.40599553232005|417.93320162542307| 421.7286071777344|16662900|      0.0|         0.0|  MSFT|\n|2025-01-06 05:00:00| 426.3607841744266| 432.6565862275622|423.85044657634234|426.21136474609375|20573600|      0.0|         0.0|  MSFT|\n|2025-01-07 05:00:00|  427.356962317073|429.00063686122985|419.18835553907815| 420.7523498535156|18139100|      0.0|         0.0|  MSFT|\n|2025-01-08 05:00:00| 421.8381972488523|425.33476415419165| 419.9255676122581| 422.9339904785156|15054600|      0.0|         0.0|  MSFT|\n+-------------------+------------------+------------------+------------------+------------------+--------+---------+------------+------+\nonly showing top 5 rows\n\n"
     ]
    }
   ],
   "source": [
    "# Переглянемо структуру\n",
    "df_bronze.printSchema()\n",
    "df_bronze.show(5)"
   ]
  },
  {
   "cell_type": "markdown",
   "metadata": {
    "application/vnd.databricks.v1+cell": {
     "cellMetadata": {},
     "inputWidgets": {},
     "nuid": "aa55e215-3fe0-4880-bb69-27108171257c",
     "showTitle": false,
     "tableResultSettingsMap": {},
     "title": ""
    }
   },
   "source": [
    "Обробка даних для Silver Layer\n",
    "- Очищення NULL-значень\n",
    "- Виправлення колонок\n",
    "- Видалення дублікатів\n",
    "- Форматування дат\n"
   ]
  },
  {
   "cell_type": "code",
   "execution_count": 0,
   "metadata": {
    "application/vnd.databricks.v1+cell": {
     "cellMetadata": {
      "byteLimit": 2048000,
      "rowLimit": 10000
     },
     "inputWidgets": {},
     "nuid": "9d1605ec-3958-4b41-b51d-f36f7c070f30",
     "showTitle": false,
     "tableResultSettingsMap": {},
     "title": ""
    }
   },
   "outputs": [],
   "source": [
    "from pyspark.sql.functions import col, expr\n",
    "# Видалення NULL-значень\n",
    "df_silver = df_bronze.na.drop()\n",
    "# Приведення типу дати\n",
    "df_silver = df_silver.withColumn(\"Date\", col(\"Date\").cast(\"date\"))\n",
    "# Видалення дублікатів\n",
    "df_silver = df_silver.dropDuplicates()\n",
    "# Створення нового поля – середньої ціни за день\n",
    "df_silver = df_silver.withColumn(\"Avg_Price\", expr(\"(High + Low) / 2\"))"
   ]
  },
  {
   "cell_type": "code",
   "execution_count": 0,
   "metadata": {
    "application/vnd.databricks.v1+cell": {
     "cellMetadata": {
      "byteLimit": 2048000,
      "rowLimit": 10000
     },
     "inputWidgets": {},
     "nuid": "5be0b283-77ea-4457-934a-d91b67a1d978",
     "showTitle": false,
     "tableResultSettingsMap": {},
     "title": ""
    }
   },
   "outputs": [
    {
     "output_type": "display_data",
     "data": {
      "text/html": [
       "<style scoped>\n",
       "  .table-result-container {\n",
       "    max-height: 300px;\n",
       "    overflow: auto;\n",
       "  }\n",
       "  table, th, td {\n",
       "    border: 1px solid black;\n",
       "    border-collapse: collapse;\n",
       "  }\n",
       "  th, td {\n",
       "    padding: 5px;\n",
       "  }\n",
       "  th {\n",
       "    text-align: left;\n",
       "  }\n",
       "</style><div class='table-result-container'><table class='table-result'><thead style='background-color: white'><tr><th>Date</th><th>Open</th><th>High</th><th>Low</th><th>Close</th><th>Volume</th><th>Dividends</th><th>Stock_Splits</th><th>Ticker</th><th>Avg_Price</th></tr></thead><tbody><tr><td>2025-04-24</td><td>375.01155205300716</td><td>387.7381880213899</td><td>374.5024768665421</td><td>386.59027099609375</td><td>22232300</td><td>0.0</td><td>0.0</td><td>MSFT</td><td>381.120332443966</td></tr><tr><td>2025-04-04</td><td>98.91000366210938</td><td>100.12999725341797</td><td>92.11000061035156</td><td>94.30999755859375</td><td>532273800</td><td>0.0</td><td>0.0</td><td>NVDA</td><td>96.11999893188477</td></tr><tr><td>2025-04-14</td><td>114.11000061035156</td><td>114.29000091552734</td><td>109.06999969482422</td><td>110.70999908447266</td><td>264705000</td><td>0.0</td><td>0.0</td><td>NVDA</td><td>111.68000030517578</td></tr><tr><td>2025-05-05</td><td>112.91000366210938</td><td>114.66999816894531</td><td>112.66000366210938</td><td>113.81999969482422</td><td>133163200</td><td>0.0</td><td>0.0</td><td>NVDA</td><td>113.66500091552734</td></tr><tr><td>2025-05-30</td><td>138.72000122070312</td><td>139.6199951171875</td><td>132.9199981689453</td><td>135.1300048828125</td><td>333170900</td><td>0.0</td><td>0.0</td><td>NVDA</td><td>136.2699966430664</td></tr><tr><td>2025-05-07</td><td>198.90915494694545</td><td>199.1788056079939</td><td>192.99690991055434</td><td>195.99298095703125</td><td>68536700</td><td>0.0</td><td>0.0</td><td>AAPL</td><td>196.08785775927413</td></tr><tr><td>2025-01-29</td><td>126.48836708502724</td><td>126.87833061040895</td><td>120.03896327722832</td><td>123.6886215209961</td><td>467120600</td><td>0.0</td><td>0.0</td><td>NVDA</td><td>123.45864694381864</td></tr><tr><td>2025-03-03</td><td>123.49864257535764</td><td>123.68861991301428</td><td>112.26967207329028</td><td>114.04950714111328</td><td>411381400</td><td>0.0</td><td>0.0</td><td>NVDA</td><td>117.97914599315229</td></tr><tr><td>2025-02-25</td><td>247.67521063757022</td><td>249.67259136851834</td><td>244.58926106556868</td><td>246.71646118164062</td><td>48013300</td><td>0.0</td><td>0.0</td><td>AAPL</td><td>247.1309262170435</td></tr><tr><td>2025-04-23</td><td>134.91000366210938</td><td>135.8699951171875</td><td>130.99000549316406</td><td>131.39999389648438</td><td>9528900</td><td>0.0</td><td>0.0</td><td>ORCL</td><td>133.43000030517578</td></tr></tbody></table></div>"
      ]
     },
     "metadata": {
      "application/vnd.databricks.v1+output": {
       "addedWidgets": {},
       "aggData": [],
       "aggError": "",
       "aggOverflow": false,
       "aggSchema": [],
       "aggSeriesLimitReached": false,
       "aggType": "",
       "arguments": {},
       "columnCustomDisplayInfos": {},
       "data": [
        [
         "2025-04-24",
         375.01155205300716,
         387.7381880213899,
         374.5024768665421,
         386.59027099609375,
         22232300,
         0.0,
         0.0,
         "MSFT",
         381.120332443966
        ],
        [
         "2025-04-04",
         98.91000366210938,
         100.12999725341797,
         92.11000061035156,
         94.30999755859375,
         532273800,
         0.0,
         0.0,
         "NVDA",
         96.11999893188477
        ],
        [
         "2025-04-14",
         114.11000061035156,
         114.29000091552734,
         109.06999969482422,
         110.70999908447266,
         264705000,
         0.0,
         0.0,
         "NVDA",
         111.68000030517578
        ],
        [
         "2025-05-05",
         112.91000366210938,
         114.66999816894531,
         112.66000366210938,
         113.81999969482422,
         133163200,
         0.0,
         0.0,
         "NVDA",
         113.66500091552734
        ],
        [
         "2025-05-30",
         138.72000122070312,
         139.6199951171875,
         132.9199981689453,
         135.1300048828125,
         333170900,
         0.0,
         0.0,
         "NVDA",
         136.2699966430664
        ],
        [
         "2025-05-07",
         198.90915494694545,
         199.1788056079939,
         192.99690991055434,
         195.99298095703125,
         68536700,
         0.0,
         0.0,
         "AAPL",
         196.08785775927413
        ],
        [
         "2025-01-29",
         126.48836708502724,
         126.87833061040895,
         120.03896327722832,
         123.6886215209961,
         467120600,
         0.0,
         0.0,
         "NVDA",
         123.45864694381864
        ],
        [
         "2025-03-03",
         123.49864257535764,
         123.68861991301428,
         112.26967207329028,
         114.04950714111328,
         411381400,
         0.0,
         0.0,
         "NVDA",
         117.97914599315229
        ],
        [
         "2025-02-25",
         247.67521063757022,
         249.67259136851834,
         244.58926106556868,
         246.71646118164062,
         48013300,
         0.0,
         0.0,
         "AAPL",
         247.1309262170435
        ],
        [
         "2025-04-23",
         134.91000366210938,
         135.8699951171875,
         130.99000549316406,
         131.39999389648438,
         9528900,
         0.0,
         0.0,
         "ORCL",
         133.43000030517578
        ]
       ],
       "datasetInfos": [],
       "dbfsResultPath": null,
       "isJsonSchema": true,
       "metadata": {},
       "overflow": false,
       "plotOptions": {
        "customPlotOptions": {},
        "displayType": "table",
        "pivotAggregation": null,
        "pivotColumns": null,
        "xColumns": null,
        "yColumns": null
       },
       "removedWidgets": [],
       "schema": [
        {
         "metadata": "{}",
         "name": "Date",
         "type": "\"date\""
        },
        {
         "metadata": "{}",
         "name": "Open",
         "type": "\"double\""
        },
        {
         "metadata": "{}",
         "name": "High",
         "type": "\"double\""
        },
        {
         "metadata": "{}",
         "name": "Low",
         "type": "\"double\""
        },
        {
         "metadata": "{}",
         "name": "Close",
         "type": "\"double\""
        },
        {
         "metadata": "{}",
         "name": "Volume",
         "type": "\"long\""
        },
        {
         "metadata": "{}",
         "name": "Dividends",
         "type": "\"double\""
        },
        {
         "metadata": "{}",
         "name": "Stock_Splits",
         "type": "\"double\""
        },
        {
         "metadata": "{}",
         "name": "Ticker",
         "type": "\"string\""
        },
        {
         "metadata": "{}",
         "name": "Avg_Price",
         "type": "\"double\""
        }
       ],
       "type": "table"
      }
     },
     "output_type": "display_data"
    }
   ],
   "source": [
    "display(df_silver.head(10))"
   ]
  },
  {
   "cell_type": "code",
   "execution_count": 0,
   "metadata": {
    "application/vnd.databricks.v1+cell": {
     "cellMetadata": {
      "byteLimit": 2048000,
      "rowLimit": 10000
     },
     "inputWidgets": {},
     "nuid": "99fe5b62-b83b-4179-b81b-dc785673f33c",
     "showTitle": false,
     "tableResultSettingsMap": {},
     "title": ""
    }
   },
   "outputs": [],
   "source": [
    "# збереження в Delta Table\n",
    "df_silver.write.format(\"delta\").mode(\"overwrite\").saveAsTable(\"yahoo_data.finance_silver\")"
   ]
  }
 ],
 "metadata": {
  "application/vnd.databricks.v1+notebook": {
   "computePreferences": null,
   "dashboards": [],
   "environmentMetadata": {
    "base_environment": "",
    "environment_version": "1"
   },
   "inputWidgetPreferences": null,
   "language": "python",
   "notebookMetadata": {
    "mostRecentlyExecutedCommandWithImplicitDF": {
     "commandId": 1736744650729571,
     "dataframes": [
      "_sqldf"
     ]
    },
    "pythonIndentUnit": 4
   },
   "notebookName": "2_script_Silver_Layer",
   "widgets": {}
  }
 },
 "nbformat": 4,
 "nbformat_minor": 0
}