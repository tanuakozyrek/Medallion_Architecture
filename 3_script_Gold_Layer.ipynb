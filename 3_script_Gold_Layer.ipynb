{
 "cells": [
  {
   "cell_type": "markdown",
   "metadata": {
    "application/vnd.databricks.v1+cell": {
     "cellMetadata": {},
     "inputWidgets": {},
     "nuid": "6eea0445-5d47-4c68-89dd-400f812dd45e",
     "showTitle": false,
     "tableResultSettingsMap": {},
     "title": ""
    }
   },
   "source": [
    "### 3.\tСтворити агреговані таблиці з ключовими фінансовими метриками (Gold Layer)."
   ]
  },
  {
   "cell_type": "code",
   "execution_count": 0,
   "metadata": {
    "application/vnd.databricks.v1+cell": {
     "cellMetadata": {
      "byteLimit": 2048000,
      "rowLimit": 10000
     },
     "inputWidgets": {},
     "nuid": "b681ef87-734b-469a-b973-9908c61b565f",
     "showTitle": false,
     "tableResultSettingsMap": {},
     "title": ""
    }
   },
   "outputs": [],
   "source": [
    "df_silver = spark.read.format(\"delta\").table(\"yahoo_data.finance_silver\")"
   ]
  },
  {
   "cell_type": "markdown",
   "metadata": {
    "application/vnd.databricks.v1+cell": {
     "cellMetadata": {},
     "inputWidgets": {},
     "nuid": "d4204c7d-c306-4709-8531-1e1aaf5eddf2",
     "showTitle": false,
     "tableResultSettingsMap": {},
     "title": ""
    }
   },
   "source": [
    "Агрегуємо метрики по днях:\n",
    "- Середню ціну акцій (Avg_Close)\n",
    "- Максимальну та мінімальну ціну (Max_High, Min_Low)\n",
    "- Загальний обсяг торгів (Total_Volume)\n",
    "- Денну зміну ціни (Price_Change)"
   ]
  },
  {
   "cell_type": "code",
   "execution_count": 0,
   "metadata": {
    "application/vnd.databricks.v1+cell": {
     "cellMetadata": {
      "byteLimit": 2048000,
      "rowLimit": 10000
     },
     "inputWidgets": {},
     "nuid": "96e5b01a-8dba-4fde-a1fa-396b8eb8170c",
     "showTitle": false,
     "tableResultSettingsMap": {},
     "title": ""
    }
   },
   "outputs": [],
   "source": [
    "from pyspark.sql.functions import col, avg, max, min, sum, lag\n",
    "from pyspark.sql.window import Window\n",
    "\n",
    "# Групування по днях і компанії\n",
    "df_gold_daily = df_silver.groupBy(\"Date\", \"Ticker\").agg(\n",
    "    avg(\"Close\").alias(\"Avg_Close\"),\n",
    "    max(\"High\").alias(\"Max_High\"),\n",
    "    min(\"Low\").alias(\"Min_Low\"),\n",
    "    sum(\"Volume\").alias(\"Total_Volume\")\n",
    ")\n",
    "\n",
    "# Денна зміна ціни для кожної компанії окремо\n",
    "window_spec = Window.partitionBy(\"Ticker\").orderBy(\"Date\")\n",
    "df_gold_daily = df_gold_daily.withColumn(\"Prev_Close\", lag(\"Avg_Close\").over(window_spec))\n",
    "df_gold_daily = df_gold_daily.withColumn(\"Price_Change\", col(\"Avg_Close\") - col(\"Prev_Close\"))"
   ]
  },
  {
   "cell_type": "code",
   "execution_count": 0,
   "metadata": {
    "application/vnd.databricks.v1+cell": {
     "cellMetadata": {
      "byteLimit": 2048000,
      "rowLimit": 10000
     },
     "inputWidgets": {},
     "nuid": "8f6fe46c-bd53-4c3b-9b4c-7e1b8cded70d",
     "showTitle": false,
     "tableResultSettingsMap": {},
     "title": ""
    }
   },
   "outputs": [
    {
     "output_type": "display_data",
     "data": {
      "text/html": [
       "<style scoped>\n",
       "  .table-result-container {\n",
       "    max-height: 300px;\n",
       "    overflow: auto;\n",
       "  }\n",
       "  table, th, td {\n",
       "    border: 1px solid black;\n",
       "    border-collapse: collapse;\n",
       "  }\n",
       "  th, td {\n",
       "    padding: 5px;\n",
       "  }\n",
       "  th {\n",
       "    text-align: left;\n",
       "  }\n",
       "</style><div class='table-result-container'><table class='table-result'><thead style='background-color: white'><tr><th>Date</th><th>Ticker</th><th>Avg_Close</th><th>Max_High</th><th>Min_Low</th><th>Total_Volume</th><th>Prev_Close</th><th>Price_Change</th></tr></thead><tbody><tr><td>2025-01-02</td><td>AAPL</td><td>243.26319885253906</td><td>248.5005651105234</td><td>241.23808511721737</td><td>55740700</td><td>null</td><td>null</td></tr><tr><td>2025-01-03</td><td>AAPL</td><td>242.7743682861328</td><td>243.5923870862029</td><td>241.3079045417172</td><td>40244100</td><td>243.26319885253906</td><td>-0.48883056640625</td></tr><tr><td>2025-01-06</td><td>AAPL</td><td>244.41041564941406</td><td>246.73481040856498</td><td>242.61474424512696</td><td>45045600</td><td>242.7743682861328</td><td>1.63604736328125</td></tr><tr><td>2025-01-07</td><td>AAPL</td><td>241.62713623046875</td><td>244.9590949760797</td><td>240.76920518354387</td><td>40856000</td><td>244.41041564941406</td><td>-2.7832794189453125</td></tr><tr><td>2025-01-08</td><td>AAPL</td><td>242.11593627929688</td><td>243.12351544341067</td><td>239.47231962725974</td><td>37628900</td><td>241.62713623046875</td><td>0.488800048828125</td></tr><tr><td>2025-01-10</td><td>AAPL</td><td>236.280029296875</td><td>239.58206138453855</td><td>232.4392881886217</td><td>61710900</td><td>242.11593627929688</td><td>-5.835906982421875</td></tr><tr><td>2025-01-13</td><td>AAPL</td><td>233.83592224121094</td><td>234.10527676213235</td><td>229.16719172961072</td><td>49630700</td><td>236.280029296875</td><td>-2.4441070556640625</td></tr><tr><td>2025-01-14</td><td>AAPL</td><td>232.71861267089844</td><td>235.55177458449063</td><td>231.9105643637605</td><td>39435300</td><td>233.83592224121094</td><td>-1.1173095703125</td></tr><tr><td>2025-01-15</td><td>AAPL</td><td>237.2975616455078</td><td>238.38495013235746</td><td>233.86583756026477</td><td>39832000</td><td>232.71861267089844</td><td>4.578948974609375</td></tr><tr><td>2025-01-16</td><td>AAPL</td><td>227.710693359375</td><td>237.4372302632713</td><td>227.4812511099753</td><td>71759100</td><td>237.2975616455078</td><td>-9.586868286132812</td></tr></tbody></table></div>"
      ]
     },
     "metadata": {
      "application/vnd.databricks.v1+output": {
       "addedWidgets": {},
       "aggData": [],
       "aggError": "",
       "aggOverflow": false,
       "aggSchema": [],
       "aggSeriesLimitReached": false,
       "aggType": "",
       "arguments": {},
       "columnCustomDisplayInfos": {},
       "data": [
        [
         "2025-01-02",
         "AAPL",
         243.26319885253906,
         248.5005651105234,
         241.23808511721737,
         55740700,
         null,
         null
        ],
        [
         "2025-01-03",
         "AAPL",
         242.7743682861328,
         243.5923870862029,
         241.3079045417172,
         40244100,
         243.26319885253906,
         -0.48883056640625
        ],
        [
         "2025-01-06",
         "AAPL",
         244.41041564941406,
         246.73481040856498,
         242.61474424512696,
         45045600,
         242.7743682861328,
         1.63604736328125
        ],
        [
         "2025-01-07",
         "AAPL",
         241.62713623046875,
         244.9590949760797,
         240.76920518354387,
         40856000,
         244.41041564941406,
         -2.7832794189453125
        ],
        [
         "2025-01-08",
         "AAPL",
         242.11593627929688,
         243.12351544341067,
         239.47231962725974,
         37628900,
         241.62713623046875,
         0.488800048828125
        ],
        [
         "2025-01-10",
         "AAPL",
         236.280029296875,
         239.58206138453855,
         232.4392881886217,
         61710900,
         242.11593627929688,
         -5.835906982421875
        ],
        [
         "2025-01-13",
         "AAPL",
         233.83592224121094,
         234.10527676213235,
         229.16719172961072,
         49630700,
         236.280029296875,
         -2.4441070556640625
        ],
        [
         "2025-01-14",
         "AAPL",
         232.71861267089844,
         235.55177458449063,
         231.9105643637605,
         39435300,
         233.83592224121094,
         -1.1173095703125
        ],
        [
         "2025-01-15",
         "AAPL",
         237.2975616455078,
         238.38495013235746,
         233.86583756026477,
         39832000,
         232.71861267089844,
         4.578948974609375
        ],
        [
         "2025-01-16",
         "AAPL",
         227.710693359375,
         237.4372302632713,
         227.4812511099753,
         71759100,
         237.2975616455078,
         -9.586868286132812
        ]
       ],
       "datasetInfos": [],
       "dbfsResultPath": null,
       "isJsonSchema": true,
       "metadata": {},
       "overflow": false,
       "plotOptions": {
        "customPlotOptions": {},
        "displayType": "table",
        "pivotAggregation": null,
        "pivotColumns": null,
        "xColumns": null,
        "yColumns": null
       },
       "removedWidgets": [],
       "schema": [
        {
         "metadata": "{}",
         "name": "Date",
         "type": "\"date\""
        },
        {
         "metadata": "{}",
         "name": "Ticker",
         "type": "\"string\""
        },
        {
         "metadata": "{}",
         "name": "Avg_Close",
         "type": "\"double\""
        },
        {
         "metadata": "{}",
         "name": "Max_High",
         "type": "\"double\""
        },
        {
         "metadata": "{}",
         "name": "Min_Low",
         "type": "\"double\""
        },
        {
         "metadata": "{}",
         "name": "Total_Volume",
         "type": "\"long\""
        },
        {
         "metadata": "{}",
         "name": "Prev_Close",
         "type": "\"double\""
        },
        {
         "metadata": "{}",
         "name": "Price_Change",
         "type": "\"double\""
        }
       ],
       "type": "table"
      }
     },
     "output_type": "display_data"
    }
   ],
   "source": [
    "# Перегляд результатів\n",
    "display(df_gold_daily.head(10))"
   ]
  },
  {
   "cell_type": "code",
   "execution_count": 0,
   "metadata": {
    "application/vnd.databricks.v1+cell": {
     "cellMetadata": {
      "byteLimit": 2048000,
      "implicitDf": true,
      "rowLimit": 10000
     },
     "inputWidgets": {},
     "nuid": "0b163d85-2e01-4032-88a0-98c235feaac5",
     "showTitle": false,
     "tableResultSettingsMap": {},
     "title": ""
    }
   },
   "outputs": [
    {
     "output_type": "display_data",
     "data": {
      "text/html": [
       "<style scoped>\n",
       "  .table-result-container {\n",
       "    max-height: 300px;\n",
       "    overflow: auto;\n",
       "  }\n",
       "  table, th, td {\n",
       "    border: 1px solid black;\n",
       "    border-collapse: collapse;\n",
       "  }\n",
       "  th, td {\n",
       "    padding: 5px;\n",
       "  }\n",
       "  th {\n",
       "    text-align: left;\n",
       "  }\n",
       "</style><div class='table-result-container'><table class='table-result'><thead style='background-color: white'><tr></tr></thead><tbody></tbody></table></div>"
      ]
     },
     "metadata": {
      "application/vnd.databricks.v1+output": {
       "addedWidgets": {},
       "aggData": [],
       "aggError": "",
       "aggOverflow": false,
       "aggSchema": [],
       "aggSeriesLimitReached": false,
       "aggType": "",
       "arguments": {},
       "columnCustomDisplayInfos": {},
       "data": [],
       "datasetInfos": [],
       "dbfsResultPath": null,
       "isJsonSchema": true,
       "metadata": {},
       "overflow": false,
       "plotOptions": {
        "customPlotOptions": {},
        "displayType": "table",
        "pivotAggregation": null,
        "pivotColumns": null,
        "xColumns": null,
        "yColumns": null
       },
       "removedWidgets": [],
       "schema": [],
       "type": "table"
      }
     },
     "output_type": "display_data"
    }
   ],
   "source": [
    "%sql\n",
    "DROP TABLE yahoo_data.finance_gold;"
   ]
  },
  {
   "cell_type": "code",
   "execution_count": 0,
   "metadata": {
    "application/vnd.databricks.v1+cell": {
     "cellMetadata": {
      "byteLimit": 2048000,
      "rowLimit": 10000
     },
     "inputWidgets": {},
     "nuid": "7ea8d917-0200-496c-b264-50bb1cf98755",
     "showTitle": false,
     "tableResultSettingsMap": {},
     "title": ""
    }
   },
   "outputs": [],
   "source": [
    "# збереження в Delta Table\n",
    "df_gold_daily.write.format(\"delta\").mode(\"overwrite\").saveAsTable(\"yahoo_data.finance_gold\")"
   ]
  },
  {
   "cell_type": "code",
   "execution_count": 0,
   "metadata": {
    "application/vnd.databricks.v1+cell": {
     "cellMetadata": {
      "byteLimit": 2048000,
      "implicitDf": true,
      "rowLimit": 10000
     },
     "inputWidgets": {},
     "nuid": "42abbd0a-1610-43e2-8c04-14adf2cb4934",
     "showTitle": false,
     "tableResultSettingsMap": {},
     "title": ""
    }
   },
   "outputs": [
    {
     "output_type": "display_data",
     "data": {
      "text/html": [
       "<style scoped>\n",
       "  .table-result-container {\n",
       "    max-height: 300px;\n",
       "    overflow: auto;\n",
       "  }\n",
       "  table, th, td {\n",
       "    border: 1px solid black;\n",
       "    border-collapse: collapse;\n",
       "  }\n",
       "  th, td {\n",
       "    padding: 5px;\n",
       "  }\n",
       "  th {\n",
       "    text-align: left;\n",
       "  }\n",
       "</style><div class='table-result-container'><table class='table-result'><thead style='background-color: white'><tr><th>Date</th><th>Ticker</th><th>Avg_Close</th><th>Max_High</th><th>Min_Low</th><th>Total_Volume</th><th>Prev_Close</th><th>Price_Change</th></tr></thead><tbody><tr><td>2025-01-02</td><td>AAPL</td><td>243.26319885253906</td><td>248.5005651105234</td><td>241.23808511721737</td><td>55740700</td><td>null</td><td>null</td></tr><tr><td>2025-01-03</td><td>AAPL</td><td>242.7743682861328</td><td>243.5923870862029</td><td>241.3079045417172</td><td>40244100</td><td>243.26319885253906</td><td>-0.48883056640625</td></tr><tr><td>2025-01-06</td><td>AAPL</td><td>244.41041564941406</td><td>246.73481040856498</td><td>242.61474424512696</td><td>45045600</td><td>242.7743682861328</td><td>1.63604736328125</td></tr><tr><td>2025-01-07</td><td>AAPL</td><td>241.62713623046875</td><td>244.9590949760797</td><td>240.76920518354387</td><td>40856000</td><td>244.41041564941406</td><td>-2.7832794189453125</td></tr><tr><td>2025-01-08</td><td>AAPL</td><td>242.11593627929688</td><td>243.12351544341067</td><td>239.47231962725974</td><td>37628900</td><td>241.62713623046875</td><td>0.488800048828125</td></tr></tbody></table></div>"
      ]
     },
     "metadata": {
      "application/vnd.databricks.v1+output": {
       "addedWidgets": {},
       "aggData": [],
       "aggError": "",
       "aggOverflow": false,
       "aggSchema": [],
       "aggSeriesLimitReached": false,
       "aggType": "",
       "arguments": {},
       "columnCustomDisplayInfos": {},
       "data": [
        [
         "2025-01-02",
         "AAPL",
         243.26319885253906,
         248.5005651105234,
         241.23808511721737,
         55740700,
         null,
         null
        ],
        [
         "2025-01-03",
         "AAPL",
         242.7743682861328,
         243.5923870862029,
         241.3079045417172,
         40244100,
         243.26319885253906,
         -0.48883056640625
        ],
        [
         "2025-01-06",
         "AAPL",
         244.41041564941406,
         246.73481040856498,
         242.61474424512696,
         45045600,
         242.7743682861328,
         1.63604736328125
        ],
        [
         "2025-01-07",
         "AAPL",
         241.62713623046875,
         244.9590949760797,
         240.76920518354387,
         40856000,
         244.41041564941406,
         -2.7832794189453125
        ],
        [
         "2025-01-08",
         "AAPL",
         242.11593627929688,
         243.12351544341067,
         239.47231962725974,
         37628900,
         241.62713623046875,
         0.488800048828125
        ]
       ],
       "datasetInfos": [],
       "dbfsResultPath": null,
       "isJsonSchema": true,
       "metadata": {},
       "overflow": false,
       "plotOptions": {
        "customPlotOptions": {},
        "displayType": "table",
        "pivotAggregation": null,
        "pivotColumns": null,
        "xColumns": null,
        "yColumns": null
       },
       "removedWidgets": [],
       "schema": [
        {
         "metadata": "{}",
         "name": "Date",
         "type": "\"date\""
        },
        {
         "metadata": "{}",
         "name": "Ticker",
         "type": "\"string\""
        },
        {
         "metadata": "{}",
         "name": "Avg_Close",
         "type": "\"double\""
        },
        {
         "metadata": "{}",
         "name": "Max_High",
         "type": "\"double\""
        },
        {
         "metadata": "{}",
         "name": "Min_Low",
         "type": "\"double\""
        },
        {
         "metadata": "{}",
         "name": "Total_Volume",
         "type": "\"long\""
        },
        {
         "metadata": "{}",
         "name": "Prev_Close",
         "type": "\"double\""
        },
        {
         "metadata": "{}",
         "name": "Price_Change",
         "type": "\"double\""
        }
       ],
       "type": "table"
      }
     },
     "output_type": "display_data"
    }
   ],
   "source": [
    "%sql\n",
    "SELECT * FROM yahoo_data.finance_gold LIMIT 5;"
   ]
  }
 ],
 "metadata": {
  "application/vnd.databricks.v1+notebook": {
   "computePreferences": null,
   "dashboards": [],
   "environmentMetadata": {
    "base_environment": "",
    "environment_version": "1"
   },
   "inputWidgetPreferences": null,
   "language": "python",
   "notebookMetadata": {
    "mostRecentlyExecutedCommandWithImplicitDF": {
     "commandId": 1736744650729585,
     "dataframes": [
      "_sqldf"
     ]
    },
    "pythonIndentUnit": 4
   },
   "notebookName": "3_script_Gold_Layer",
   "widgets": {}
  }
 },
 "nbformat": 4,
 "nbformat_minor": 0
}